{
 "cells": [
  {
   "cell_type": "code",
   "execution_count": 49,
   "metadata": {},
   "outputs": [
    {
     "name": "stdout",
     "output_type": "stream",
     "text": [
      "hello world\n"
     ]
    }
   ],
   "source": [
    "print('hello world')"
   ]
  },
  {
   "cell_type": "code",
   "execution_count": 50,
   "metadata": {},
   "outputs": [
    {
     "name": "stdout",
     "output_type": "stream",
     "text": [
      "<class 'NoneType'>\n",
      "<class 'bool'>\n",
      "<class 'int'>\n",
      "<class 'float'>\n",
      "<class 'str'>\n",
      "<class 'list'>\n",
      "<class 'tuple'>\n",
      "<class 'dict'>\n"
     ]
    }
   ],
   "source": [
    "# in python everything is built by class keyword\n",
    "print(type(None))\n",
    "print(type(True))\n",
    "print(type(5))\n",
    "print(type(5.5))\n",
    "print(type('hi'))\n",
    "print(type([]))\n",
    "print(type(()))\n",
    "print(type({}))"
   ]
  },
  {
   "cell_type": "code",
   "execution_count": 51,
   "metadata": {},
   "outputs": [],
   "source": [
    "# 'hi' is object of class 'str' and has different methods\n",
    "# we create our objects of our own data types using class with custom methods"
   ]
  },
  {
   "cell_type": "code",
   "execution_count": 52,
   "metadata": {},
   "outputs": [
    {
     "name": "stdout",
     "output_type": "stream",
     "text": [
      "<class 'type'>\n",
      "<class '__main__.BigObject'>\n"
     ]
    }
   ],
   "source": [
    "class BigObject:\n",
    "    #code\n",
    "    pass\n",
    "print(type(BigObject))\n",
    "obj1 = BigObject()      #object or instace\n",
    "print(type(obj1))     "
   ]
  },
  {
   "cell_type": "code",
   "execution_count": 53,
   "metadata": {},
   "outputs": [
    {
     "name": "stdout",
     "output_type": "stream",
     "text": [
      "<__main__.PlayerCharacter1 object at 0x00000215ECF33D60>\n",
      "<__main__.PlayerCharacter1 object at 0x00000215ECF33D90>\n",
      "shrikant\n",
      "andrei\n",
      "24\n",
      "33\n",
      "run\n",
      "done\n"
     ]
    }
   ],
   "source": [
    "#oop\n",
    "class PlayerCharacter1():\n",
    "    def __init__(self,name,age):\n",
    "        self.name = name   # attributes\n",
    "        self.age = age\n",
    "    \n",
    "    def run(self):\n",
    "        print('run')    # method\n",
    "        return 'done' \n",
    "    \n",
    "player1 = PlayerCharacter1('shrikant',24)\n",
    "player2 = PlayerCharacter1('andrei',33)\n",
    "print(player1)\n",
    "print(player2)\n",
    "print(player1.name) #object player1 refers to self in class code \n",
    "print(player2.name)\n",
    "print(player1.age)\n",
    "print(player2.age)     # attribute to the object\n",
    "print(player1.run())   # method to the object"
   ]
  },
  {
   "cell_type": "code",
   "execution_count": 54,
   "metadata": {},
   "outputs": [
    {
     "name": "stdout",
     "output_type": "stream",
     "text": [
      "shrikant\n",
      "True\n",
      "my name is shrikant\n",
      "None\n",
      "walk! shrikant\n",
      "None\n"
     ]
    }
   ],
   "source": [
    "class PlayerCharacter2():\n",
    "    membership = True #class object attribute #for all objects\n",
    "    def __init__(self,name,age):   # constructor function\n",
    "        if self.membership and age>18:\n",
    "            self.name = name   # attributes\n",
    "            self.age = age\n",
    "\n",
    "    def run(self):\n",
    "        print('run')    # method\n",
    "        return 'done'\n",
    "    \n",
    "    def shout(self):\n",
    "        print(f'my name is {self.name}')\n",
    "        return \n",
    "        \n",
    "    def walk(self):\n",
    "        print(f'walk! {self.name}')\n",
    "        return \n",
    "    \n",
    "# help(player1)\n",
    "player1 = PlayerCharacter2('shrikant',24)\n",
    "player2 = PlayerCharacter2('andrei',33)\n",
    "print(player1.name)\n",
    "print(player2.membership)\n",
    "print(player1.shout())\n",
    "print(player1.walk())\n"
   ]
  },
  {
   "cell_type": "code",
   "execution_count": 55,
   "metadata": {},
   "outputs": [
    {
     "name": "stdout",
     "output_type": "stream",
     "text": [
      "anonymous\n",
      "True\n",
      "my name is anonymous\n",
      "None\n",
      "walk! anonymous\n",
      "None\n"
     ]
    }
   ],
   "source": [
    "class PlayerCharacter3():\n",
    "    membership = True #class object attribute #for all objects\n",
    "    def __init__(self,name='anonymous',age='0'):   # constructor function\n",
    "        if self.membership:      # conditions or safeguards or control\n",
    "            self.name = name   # attributes\n",
    "            self.age = age\n",
    "\n",
    "    def run(self):\n",
    "        print('run')    # method\n",
    "        return 'done'\n",
    "    \n",
    "    def shout(self):\n",
    "        print(f'my name is {self.name}')\n",
    "        return \n",
    "        \n",
    "    def walk(self):\n",
    "        print(f'walk! {self.name}')\n",
    "        return \n",
    "    \n",
    "# help(player1)\n",
    "player1 = PlayerCharacter3()\n",
    "player2 = PlayerCharacter3('andrei',33)\n",
    "print(player1.name)\n",
    "print(player2.membership)\n",
    "print(player1.shout())\n",
    "print(player1.walk())\n"
   ]
  },
  {
   "cell_type": "code",
   "execution_count": 56,
   "metadata": {},
   "outputs": [
    {
     "name": "stdout",
     "output_type": "stream",
     "text": [
      "The oldest cat is 4 years old\n"
     ]
    }
   ],
   "source": [
    "#example:\n",
    "#Given the below class:\n",
    "class Cat:\n",
    "    species = 'mammal'\n",
    "    def __init__(self, name, age):\n",
    "        self.name = name\n",
    "        self.age = age\n",
    "\n",
    "\n",
    "# 1 Instantiate the Cat object with 3 cats\n",
    "cat1 = Cat('lily',2)\n",
    "cat2 = Cat('juli',3)\n",
    "cat3 = Cat('pily',4)\n",
    "\n",
    "# 2 Create a function that finds the oldest cat\n",
    "def oldie(x,y,z):\n",
    "  return max(x,y,z)\n",
    "\n",
    "\n",
    "\n",
    "# 3 Print out: \"The oldest cat is x years old.\". x will be the oldest cat age by using the function in #2\n",
    "print(f'The oldest cat is {oldie(cat1.age,cat2.age,cat3.age)} years old')\n"
   ]
  },
  {
   "cell_type": "code",
   "execution_count": 57,
   "metadata": {},
   "outputs": [
    {
     "name": "stdout",
     "output_type": "stream",
     "text": [
      "5\n",
      "<__main__.PlayerCharacter4 object at 0x00000215ED63BB20>\n",
      "10\n"
     ]
    }
   ],
   "source": [
    "class PlayerCharacter4():\n",
    "    membership = True #class object attribute #for all objects\n",
    "    def __init__(self,name='anonymous',age='0'):   # constructor function\n",
    "        if self.membership:      # conditions or safeguards or control\n",
    "            self.name = name   # attributes\n",
    "            self.age = age\n",
    "\n",
    "    def run(self):\n",
    "        print('run')    # method\n",
    "        return 'done'\n",
    "    \n",
    "    def shout(self):\n",
    "        print(f'my name is {self.name}')\n",
    "        return \n",
    "        \n",
    "    def walk(self):\n",
    "        print(f'walk! {self.name}')\n",
    "        return \n",
    "    \n",
    "    @classmethod # we get access to class also\n",
    "    def adding_things(cls,num1,num2):     # not used often\n",
    "        return num1 + num2\n",
    "    @classmethod\n",
    "    def inst_object(cls,num1,num2):\n",
    "        return cls('teddy',num1 + num2) #   to instantiate one more \n",
    "                                         #       object\n",
    "    @staticmethod # don't have access to class\n",
    "    def add_object(num1,num2):# we dont care about class attributes\n",
    "        return (num1 + num2)  #     i.e self attributes\n",
    "    \n",
    "player1 = PlayerCharacter4('shrikant',24)\n",
    "player2 = PlayerCharacter4('andrei',33)\n",
    "print(player1.adding_things(2,3))\n",
    "PlayerCharacter4.adding_things(4,4) #it's method on actual class \n",
    "                            #unlike the other defined functions \n",
    "                             #which can only be used by objects\n",
    "player3 = PlayerCharacter4.inst_object(4,4)\n",
    "print(player3)\n",
    "print(player1.add_object(2,8))"
   ]
  },
  {
   "cell_type": "markdown",
   "metadata": {},
   "source": [
    "### 4 pillars of oop\n",
    "##1 Encapsulation:\n",
    "binding of data(attributes) and functions(methods/actions)\n",
    "\n",
    "##2 Abstraction: \n",
    "giving access to only information which is required only method or attribute name we need to know.We only give access to what is required. We should never give access to attributes(__init__ functions).standard practice is to add _ in front of attribute name\n",
    "\n",
    "##3 Inheritance:\n",
    "allows new objects to take on the properties of existing objects.\n",
    "\n",
    "##4 Polymorphism:\n",
    "Many forms.\n",
    "the way in which object classes share the method names.\n"
   ]
  },
  {
   "cell_type": "code",
   "execution_count": 77,
   "metadata": {},
   "outputs": [
    {
     "name": "stdout",
     "output_type": "stream",
     "text": [
      "<__main__.Wizard object at 0x00000215ECF5A9D0>\n",
      "logged in.\n",
      "None\n",
      "attacking with power of 50\n",
      "attacking with arrows:arrows left 60\n",
      "True\n",
      "True\n",
      "False\n",
      "True\n"
     ]
    }
   ],
   "source": [
    "# inheritance example:\n",
    "class User():\n",
    "    def sign_in(self):      #shared class by Wizard and Archer\n",
    "        print('logged in.') #                subclasses/derived classes\n",
    "        \n",
    "class Wizard(User):  # single inheritance\n",
    "    def __init__(self,name,power):\n",
    "        self.name = name\n",
    "        self.power = power\n",
    "    \n",
    "    def attack(self):\n",
    "        print(f'attacking with power of {self.power}')\n",
    "\n",
    "class Archer(User):\n",
    "    def __init__(self,name,num_arrows):\n",
    "        self.name = name\n",
    "        self.num_arrows = num_arrows\n",
    "    \n",
    "    def attack(self):\n",
    "        print(f'attacking with arrows:arrows left {self.num_arrows}')\n",
    "\n",
    "wizard1 = Wizard('shri',50)\n",
    "archer1 = Archer('andrie',60)\n",
    "print(wizard1)\n",
    "print(wizard1.sign_in())\n",
    "wizard1.attack()\n",
    "archer1.attack()\n",
    "\n",
    "print(isinstance(wizard1,Wizard))\n",
    "print(isinstance(wizard1,User)) \n",
    "print(isinstance(archer1,Wizard))\n",
    "print(isinstance(wizard1,object)) # object is base class of python\n",
    "                                #  that's why we have dunder methods\n",
    "# object is by default parent class of any new class you create.   \n"
   ]
  },
  {
   "cell_type": "code",
   "execution_count": 59,
   "metadata": {},
   "outputs": [
    {
     "name": "stdout",
     "output_type": "stream",
     "text": [
      "attacking with power of 50\n",
      "attacking with power of 50\n",
      "attacking with arrows:arrows left 30\n",
      "attacking with power of 50\n",
      "attacking with arrows:arrows left 30\n",
      "attacking with power of 50\n",
      "None\n"
     ]
    }
   ],
   "source": [
    "# polymorphysm example:\n",
    "class User2():\n",
    "    def sign_in(self):      #shared class by Wizard and Archer\n",
    "        print('logged in.') #                subclasses/derived classes\n",
    "    \n",
    "    def attack(self):\n",
    "        print('do nothing!')\n",
    "class Wizard(User2):\n",
    "    def __init__(self,name,power):\n",
    "        self.name = name\n",
    "        self.power = power\n",
    "    \n",
    "    def attack(self):\n",
    "        print(f'attacking with power of {self.power}')\n",
    "\n",
    "class Archer(User2):\n",
    "    def __init__(self,name,num_arrows):\n",
    "        self.name = name\n",
    "        self.num_arrows = num_arrows\n",
    "    \n",
    "    def attack(self):\n",
    "        print(f'attacking with arrows:arrows left {self.num_arrows}')\n",
    "\n",
    "wizard1 = Wizard('shri',50)\n",
    "archer1 = Archer('andrie',30)\n",
    "\n",
    "wizard1.attack()\n",
    "def player_attack(char):\n",
    "    char.attack()       # two objects with same method name.\n",
    "player_attack(wizard1)\n",
    "player_attack(archer1)\n",
    "\n",
    "for c in [wizard1,archer1]:\n",
    "    c.attack()\n",
    "    \n",
    "print(wizard1.attack()) #though user class also has attack function\n",
    "# it overrides the attack function in user class and executes the\n",
    "# required attack function in wizard class."
   ]
  },
  {
   "cell_type": "code",
   "execution_count": 60,
   "metadata": {},
   "outputs": [
    {
     "name": "stdout",
     "output_type": "stream",
     "text": [
      "simon1 is just walking around\n",
      "sally1 is just walking around\n",
      "lily1 is just walking around\n",
      "shri 4\n"
     ]
    }
   ],
   "source": [
    "# best example illustrating thr possible powers of oop.\n",
    "class Pets():\n",
    "    animals = []\n",
    "    def __init__(self, animals):\n",
    "        self.animals = animals\n",
    "\n",
    "    def walk(self):\n",
    "        for animal in self.animals:\n",
    "            print(animal.walk())\n",
    "\n",
    "class Cat():\n",
    "\n",
    "    def __init__(self, name, age):\n",
    "        self.name = name\n",
    "        self.age = age\n",
    "\n",
    "    def walk(self):\n",
    "        return f'{self.name} is just walking around'\n",
    "\n",
    "class Simon(Cat):\n",
    "    def sing(self, sounds):\n",
    "        return f'{sounds}'\n",
    "\n",
    "class Sally(Cat):\n",
    "    def sing(self, sounds):\n",
    "        return f'{sounds}'\n",
    "\n",
    "#1 Add nother Cat\n",
    "class Lily(Cat):\n",
    "  def sing(self,sounds):\n",
    "    return f'{sounds}'\n",
    "#2 Create a list of all of the pets (create 3 cat instances from the above)\n",
    "my_cats = [Simon('simon1',1),Sally('sally1',2),Lily('lily1',3)]\n",
    "\n",
    "#3 Instantiate the Pet class with all your cats use variable my_pets\n",
    "my_pets = Pets(my_cats)\n",
    "#4 Output all of the cats walking using the my_pets instance\n",
    "my_pets.walk()\n",
    "simon2 = Simon('shri',4)\n",
    "print(simon2.name,simon2.age)"
   ]
  },
  {
   "cell_type": "code",
   "execution_count": 61,
   "metadata": {},
   "outputs": [
    {
     "name": "stdout",
     "output_type": "stream",
     "text": [
      "logged in.\n",
      "None\n",
      "shrikant@gmail.com\n"
     ]
    }
   ],
   "source": [
    "#super()\n",
    "class User3():\n",
    "    def __init__(self,email):\n",
    "        self.email = email\n",
    "        \n",
    "    def sign_in(self):      #shared class by Wizard and Archer\n",
    "        print('logged in.') #                subclasses/derived classes\n",
    "        \n",
    "class Wizard(User3):\n",
    "    def __init__(self,name,power,email):\n",
    "        super().__init__(email)  # use of super()\n",
    "#         User3.__init__(self,email)\n",
    "        self.name = name\n",
    "        self.power = power\n",
    "    \n",
    "    def attack(self):\n",
    "        print(f'attacking with power of {self.power}')\n",
    "\n",
    "class Archer(User3):\n",
    "    def __init__(self,name,num_arrows):\n",
    "        self.name = name\n",
    "        self.num_arrows = num_arrows\n",
    "    \n",
    "    def attack(self):\n",
    "        print(f'attacking with arrows:arrows left {self.num_arrows}')\n",
    "\n",
    "wizard1 = Wizard('shri',50,'shrikant@gmail.com')\n",
    "archer1 = Archer('andrie',60)\n",
    "\n",
    "print(wizard1.sign_in())\n",
    "print(wizard1.email)\n"
   ]
  },
  {
   "cell_type": "code",
   "execution_count": 62,
   "metadata": {},
   "outputs": [
    {
     "name": "stdout",
     "output_type": "stream",
     "text": [
      "<__main__.Wizard object at 0x00000215ED8A5BE0>\n",
      "['__class__', '__delattr__', '__dict__', '__dir__', '__doc__', '__eq__', '__format__', '__ge__', '__getattribute__', '__gt__', '__hash__', '__init__', '__init_subclass__', '__le__', '__lt__', '__module__', '__ne__', '__new__', '__reduce__', '__reduce_ex__', '__repr__', '__setattr__', '__sizeof__', '__str__', '__subclasshook__', '__weakref__', 'attack', 'email', 'name', 'power', 'sign_in']\n"
     ]
    }
   ],
   "source": [
    "# object introspection\n",
    "print(wizard1)\n",
    "print(dir(wizard1))"
   ]
  },
  {
   "cell_type": "markdown",
   "metadata": {},
   "source": [
    "### Dunders"
   ]
  },
  {
   "cell_type": "code",
   "execution_count": 63,
   "metadata": {},
   "outputs": [
    {
     "name": "stdout",
     "output_type": "stream",
     "text": [
      "<__main__.Toy object at 0x00000215ED276D30>\n",
      "action_figure\n",
      "5\n",
      "5\n",
      "13\n",
      "yes??\n",
      "shri False\n",
      "deleted!\n"
     ]
    }
   ],
   "source": [
    "class Toy():\n",
    "    def __init__(self,color,age):\n",
    "        self.color = color\n",
    "        self.age = age\n",
    "        self.my_dict = {'name':'shri','has_pets':False}\n",
    "        \n",
    "    def __len__(self):\n",
    "        return 5\n",
    "    \n",
    "    def __del__(self):\n",
    "        print('deleted!')\n",
    "        \n",
    "    def __call__(self):\n",
    "        return (f'yes??')\n",
    "    \n",
    "    def __getitem__(self,i):\n",
    "        return self.my_dict[i]\n",
    "    \n",
    "action_figure = Toy('red',0)\n",
    "print(action_figure.__str__()) \n",
    "print(str('action_figure'))# does not change the actual str function\n",
    "print(action_figure.__len__())\n",
    "print(len(action_figure))# acts as desired only on object\n",
    "print(len('action_figure')) # does not change the actual len function\n",
    "print(action_figure())  # __call__\n",
    "print(action_figure['name'],action_figure['has_pets'])\n",
    "del(action_figure)"
   ]
  },
  {
   "cell_type": "code",
   "execution_count": 64,
   "metadata": {},
   "outputs": [
    {
     "name": "stdout",
     "output_type": "stream",
     "text": [
      "1000\n",
      "[5]\n",
      "5\n",
      "True\n",
      "True\n"
     ]
    }
   ],
   "source": [
    "# class example\n",
    "class Superlist(list):\n",
    "    def __len__(self):\n",
    "        return 1000\n",
    "\n",
    "superlist1 = Superlist()\n",
    "\n",
    "print(len(superlist1))\n",
    "superlist1.append(5)\n",
    "print(superlist1)\n",
    "print(superlist1[0])\n",
    "print(issubclass(Superlist,list))\n",
    "print(issubclass(list,object))"
   ]
  },
  {
   "cell_type": "markdown",
   "metadata": {},
   "source": [
    "### multiple inheritence   (Bad Practice leads to confusion)"
   ]
  },
  {
   "cell_type": "code",
   "execution_count": 76,
   "metadata": {},
   "outputs": [
    {
     "name": "stdout",
     "output_type": "stream",
     "text": [
      "ran really fast!\n",
      "None\n",
      "logged in.\n",
      "None\n",
      "arrows left: 100\n",
      "None\n",
      "attacking with power of 50\n",
      "None\n"
     ]
    }
   ],
   "source": [
    "\n",
    "class User4():        \n",
    "    def sign_in(self):      #shared class by Wizard and Archer\n",
    "        print('logged in.') #                subclasses/derived classes\n",
    "        \n",
    "class Wizard(User4):\n",
    "    def __init__(self,name,power):\n",
    "        self.name = name\n",
    "        self.power = power\n",
    "    \n",
    "    def attack(self):\n",
    "        print(f'attacking with power of {self.power}')\n",
    "\n",
    "class Archer(User4):\n",
    "    def __init__(self,name,num_arrows):\n",
    "        self.name = name\n",
    "        self.num_arrows = num_arrows\n",
    "    \n",
    "    def check_arrows(self):\n",
    "        print(f'arrows left: {self.num_arrows}')\n",
    "        \n",
    "    def run(self):\n",
    "        print('ran really fast!')\n",
    "\n",
    "class HybridBorg(Wizard,Archer):   #multiple inheritence\n",
    "    def __init__(self,name,power,num_arrows):\n",
    "        Archer.__init__(self,name,num_arrows)\n",
    "        Wizard.__init__(self,name,power)\n",
    "    \n",
    "\n",
    "wizard1 = Wizard('shri',50)\n",
    "archer1 = Archer('andrie',60)\n",
    "hb1 = HybridBorg('borgie',50,100) #name,power,num_arrows\n",
    "\n",
    "print(hb1.run())\n",
    "print(hb1.sign_in())\n",
    "print(hb1.check_arrows())\n",
    "print(hb1.attack())\n",
    "\n"
   ]
  },
  {
   "cell_type": "markdown",
   "metadata": {},
   "source": [
    "### MRO: Method Resolution Order"
   ]
  },
  {
   "cell_type": "code",
   "execution_count": 83,
   "metadata": {},
   "outputs": [
    {
     "name": "stdout",
     "output_type": "stream",
     "text": [
      "[<class '__main__.D'>, <class '__main__.B'>, <class '__main__.C'>, <class '__main__.A'>, <class 'object'>]\n",
      "1\n",
      "<slot wrapper '__str__' of 'object' objects>\n",
      "10\n"
     ]
    }
   ],
   "source": [
    "class A:\n",
    "    num = 10\n",
    "\n",
    "class B(A):\n",
    "    pass\n",
    "\n",
    "class C(A):\n",
    "    num = 1\n",
    "    \n",
    "class D(B,C):\n",
    "    pass\n",
    "\n",
    "print(D.mro())\n",
    "print(D.num)\n",
    "print(D.__str__)\n",
    "print(B.num)"
   ]
  },
  {
   "cell_type": "code",
   "execution_count": 84,
   "metadata": {},
   "outputs": [
    {
     "name": "stdout",
     "output_type": "stream",
     "text": [
      "(<class '__main__.M'>, <class '__main__.B'>, <class '__main__.A'>, <class '__main__.X'>, <class '__main__.Y'>, <class '__main__.Z'>, <class 'object'>)\n"
     ]
    }
   ],
   "source": [
    "class X:pass\n",
    "class Y:pass\n",
    "class Z:pass\n",
    "class A(X,Y):pass\n",
    "class B(Y,Z):pass\n",
    "class M(B,A,Z):pass\n",
    "\n",
    "print(M.__mro__)"
   ]
  },
  {
   "cell_type": "code",
   "execution_count": null,
   "metadata": {},
   "outputs": [],
   "source": []
  },
  {
   "cell_type": "code",
   "execution_count": null,
   "metadata": {},
   "outputs": [],
   "source": []
  }
 ],
 "metadata": {
  "kernelspec": {
   "display_name": "Python 3",
   "language": "python",
   "name": "python3"
  },
  "language_info": {
   "codemirror_mode": {
    "name": "ipython",
    "version": 3
   },
   "file_extension": ".py",
   "mimetype": "text/x-python",
   "name": "python",
   "nbconvert_exporter": "python",
   "pygments_lexer": "ipython3",
   "version": "3.8.3"
  }
 },
 "nbformat": 4,
 "nbformat_minor": 4
}
